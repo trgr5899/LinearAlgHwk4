{
 "cells": [
  {
   "cell_type": "code",
   "execution_count": 15,
   "metadata": {},
   "outputs": [
    {
     "name": "stdout",
     "output_type": "stream",
     "text": [
      "There are 5 clusters\n",
      "There are 100 vectors\n",
      "Each vector is size 10\n"
     ]
    },
    {
     "data": {
      "image/png": "[encoded data removed]",
      "text/plain": [
       "<Figure size 432x288 with 1 Axes>"
      ]
     },
     "metadata": {
      "needs_background": "light"
     },
     "output_type": "display_data"
    }
   ],
   "source": [
    "#Trevor Greens k-means solution HWK 4 \n",
    "#this clusters and calculates 100 vectors with size 10 \n",
    "#Linear Algebra\n",
    "import matplotlib.pyplot as plt\n",
    "import numpy as np \n",
    "import pandas as pd\n",
    "\n",
    "#make blobs generates an array of vectors\n",
    "from sklearn.datasets import make_blobs\n",
    "\n",
    "# kmeans helps with the clustering\n",
    "from sklearn.cluster import KMeans\n",
    "\n",
    "#this specifies how many clusters I want\n",
    "k=KMeans(n_clusters=5)\n",
    "\n",
    "# this is where i create my data set with 100 size ten vectors\n",
    "vectors=make_blobs(n_samples=100,centers=5,n_features=10,cluster_std=1.5)\n",
    "arrays=vectors[0]\n",
    "\n",
    "#this creates a file of all the vectors that were used \n",
    "file_name = 'data.txt'\n",
    "f = open(file_name, 'a+')  # open file in append mode\n",
    "f.write(\"\\n\".join(str(item) for item in vectors))\n",
    "f.close()\n",
    "\n",
    "        \n",
    "#this fits the data to a kmeans object\n",
    "k.fit(vectors[0])\n",
    "\n",
    "#plotting the data\n",
    "#creates centroids\n",
    "centroids=k.cluster_centers_\n",
    "\n",
    "#try to calculate how the centroids fit in the data determines what centroid each vector is closest to\n",
    "centroidfit=k.fit_predict(vectors[0])\n",
    "\n",
    "print(\"There are 5 clusters\")\n",
    "print(\"There are 100 vectors\")\n",
    "print(\"Each vector is size 10\")\n",
    "# each color corresponds to each cluster\n",
    "plt.scatter(arrays[centroidfit==0,0], arrays[centroidfit==0,1],s=50,color='red')\n",
    "plt.scatter(arrays[centroidfit==1,0], arrays[centroidfit==1,1],s=50,color='blue')\n",
    "plt.scatter(arrays[centroidfit==2,0], arrays[centroidfit==2,1],s=50,color='yellow')\n",
    "plt.scatter(arrays[centroidfit==3,0], arrays[centroidfit==3,1],s=50,color='purple')\n",
    "plt.scatter(arrays[centroidfit==4,0], arrays[centroidfit==4,1],s=50,color='green')\n",
    "plt.show()"
   ]
  },
  {
   "cell_type": "code",
   "execution_count": null,
   "metadata": {},
   "outputs": [],
   "source": []
  },
  {
   "cell_type": "code",
   "execution_count": null,
   "metadata": {},
   "outputs": [],
   "source": []
  },
  {
   "cell_type": "code",
   "execution_count": null,
   "metadata": {},
   "outputs": [],
   "source": []
  },
  {
   "cell_type": "code",
   "execution_count": null,
   "metadata": {},
   "outputs": [],
   "source": []
  }
 ],
 "metadata": {
  "kernelspec": {
   "display_name": "Python 3",
   "language": "python",
   "name": "python3"
  },
  "language_info": {
   "codemirror_mode": {
    "name": "ipython",
    "version": 3
   },
   "file_extension": ".py",
   "mimetype": "text/x-python",
   "name": "python",
   "nbconvert_exporter": "python",
   "pygments_lexer": "ipython3",
   "version": "3.7.3"
  }
 },
 "nbformat": 4,
 "nbformat_minor": 4
}
